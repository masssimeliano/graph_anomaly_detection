{
 "cells": [
  {
   "metadata": {},
   "cell_type": "code",
   "outputs": [],
   "execution_count": null,
   "source": [
    "from src.scripts import train_baseline\n",
    "from src.scripts import train_structure_and_feature\n",
    "from src.scripts import train_structure_and_feature_2\n",
    "from src.scripts import train_structure_and_feature_3\n",
    "\n",
    "def main():\n",
    "    train_baseline.main()\n",
    "    # train_structure_and_feature.main()\n",
    "    # train_structure_and_feature_2.main()\n",
    "    # train_structure_and_feature_3.main()\n",
    "\n",
    "if __name__ == \"__main__\":\n",
    "    main()"
   ],
   "id": "f45b33141ad409e4"
  }
 ],
 "metadata": {},
 "nbformat": 5,
 "nbformat_minor": 9
}
